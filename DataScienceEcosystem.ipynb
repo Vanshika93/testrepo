{
 "cells": [
  {
   "cell_type": "markdown",
   "id": "a01bf0f7",
   "metadata": {},
   "source": [
    "# Data Science Tools and Ecosystem"
   ]
  },
  {
   "cell_type": "markdown",
   "id": "5e0f6fcc",
   "metadata": {},
   "source": [
    "In this notebook, Data Science Tools and Ecosystem are summarized."
   ]
  },
  {
   "cell_type": "markdown",
   "id": "863bd371",
   "metadata": {},
   "source": [
    "Some of the popular languages that Data Scientists use are:\n",
    "1. Python\n",
    "2. Java\n",
    "3. R programming"
   ]
  },
  {
   "cell_type": "markdown",
   "id": "b48b726c",
   "metadata": {},
   "source": [
    "Some of the commonly used libraries used by Data Scientists include:\n",
    "1. Matplotlib\n",
    "2. Pandas\n",
    "3. Numpy"
   ]
  },
  {
   "cell_type": "markdown",
   "id": "14b68296",
   "metadata": {},
   "source": [
    "Data Science Tools:\n",
    "| Data Science Tools                  | \n",
    "|:------------------------------------|\n",
    "| SAS:It is one of data science tools.|  \n",
    "| Apache Spark                        |  \n",
    "| Big ML                              |"
   ]
  },
  {
   "cell_type": "markdown",
   "id": "b27c16ed",
   "metadata": {},
   "source": [
    "### Below are a few examples of evaluating arithmetic expressions in Python"
   ]
  },
  {
   "cell_type": "code",
   "execution_count": 1,
   "id": "955666a6",
   "metadata": {},
   "outputs": [
    {
     "data": {
      "text/plain": [
       "17"
      ]
     },
     "execution_count": 1,
     "metadata": {},
     "output_type": "execute_result"
    }
   ],
   "source": [
    "#This a simple arithmetic expression to mutiply then add integers\n",
    "(3*4)+5"
   ]
  },
  {
   "cell_type": "code",
   "execution_count": 3,
   "id": "f3d5b9a0",
   "metadata": {},
   "outputs": [
    {
     "name": "stdout",
     "output_type": "stream",
     "text": [
      "Hours = 3\n",
      "Minutes = 20\n"
     ]
    }
   ],
   "source": [
    "#This will convert 200 minutes to hours by diving by 60\n",
    "min=200\n",
    "h=min//60\n",
    "m=min%60\n",
    "print(\"Hours =\",h)\n",
    "print(\"Minutes =\",m)"
   ]
  },
  {
   "cell_type": "markdown",
   "id": "ce4304e3",
   "metadata": {},
   "source": [
    "**Objectives:**\n",
    "- Popular languages used by data scientists.\n",
    "- Common libraries used by data scientists.\n",
    "- Data science tools\n",
    "- Arithmetic operations"
   ]
  },
  {
   "cell_type": "markdown",
   "id": "5279968d",
   "metadata": {},
   "source": [
    "## Author\n",
    "\n",
    "Vanshika"
   ]
  }
 ],
 "metadata": {
  "kernelspec": {
   "display_name": "Python 3 (ipykernel)",
   "language": "python",
   "name": "python3"
  },
  "language_info": {
   "codemirror_mode": {
    "name": "ipython",
    "version": 3
   },
   "file_extension": ".py",
   "mimetype": "text/x-python",
   "name": "python",
   "nbconvert_exporter": "python",
   "pygments_lexer": "ipython3",
   "version": "3.11.5"
  }
 },
 "nbformat": 4,
 "nbformat_minor": 5
}
